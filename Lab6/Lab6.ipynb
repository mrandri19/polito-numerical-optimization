{
 "cells": [
  {
   "cell_type": "code",
   "execution_count": 155,
   "metadata": {},
   "outputs": [],
   "source": [
    "using Plots, LinearAlgebra"
   ]
  },
  {
   "cell_type": "code",
   "execution_count": 195,
   "metadata": {},
   "outputs": [
    {
     "name": "stderr",
     "output_type": "stream",
     "text": [
      "WARNING: replacing module MyFiniteDiff.\n"
     ]
    }
   ],
   "source": [
    "module MyFiniteDiff\n",
    "using LinearAlgebra\n",
    "function _e(T, i, n)\n",
    "    v = zeros(T, n)\n",
    "    v[i] = one(T)\n",
    "    return v\n",
    "end\n",
    "\n",
    "\"Find the numerical gradient of f : R^2 -> R using forward or centered differences\"\n",
    "function grad_finite_diff(x, f, h, type_)   \n",
    "    n = size(x, 1)\n",
    "    grad = similar(x)\n",
    "    \n",
    "    fx = f(x)\n",
    "    \n",
    "    e(i) = _e(eltype(x), i, n)\n",
    "    \n",
    "    for i in 1:n\n",
    "        if type_ == :fw\n",
    "            grad[i] = (f(x + h*e(i)) - fx) / h\n",
    "        end\n",
    "        if type_ == :c\n",
    "            grad[i] = (f(x + h*e(i)) - f(x - h*e(i))) / 2h\n",
    "        end\n",
    "    end\n",
    "    \n",
    "    return grad\n",
    "end\n",
    "\n",
    "function hess_finite_diff(x, f, h)\n",
    "    n = size(x, 1)\n",
    "    grad = similar(x, n, n)\n",
    "    \n",
    "    e(i) = _e(eltype(x), i, n)\n",
    "    \n",
    "    for i in 1:n\n",
    "        for j in 1:n\n",
    "            # Just calculate the upper triangle\n",
    "            if i < j\n",
    "                grad[i, j] = (\n",
    "                    f(x + h*e(i) + h*e(j)) - f(x + h*e(i)) - f(x + h*e(j)) + f(x)\n",
    "                ) / (h^2)\n",
    "            end\n",
    "            if i == j\n",
    "                grad[i, i] = (\n",
    "                    f(x + h*e(i)) - 2*f(x) + f(x - h*e(i))\n",
    "                ) / (h^2)\n",
    "            end\n",
    "        end\n",
    "    end\n",
    "    \n",
    "    # And then copy the upper part into the lower part\n",
    "    return Symmetric(grad)\n",
    "end\n",
    "\n",
    "# TODO(Friday): Jacobian, Hessian as Jacobian, Finite differences in Netwon Method\n",
    "    \n",
    "end\n",
    "import Main.MyFiniteDiff\n",
    "\n",
    "@assert MyFiniteDiff.grad_finite_diff([3.], x -> x[1]^2, sqrt(eps()), :fw) ≈ [6]\n",
    "@assert MyFiniteDiff.grad_finite_diff([3.], x -> x[1]^2, sqrt(eps()), :c) ≈ [6]\n",
    "@assert MyFiniteDiff.grad_finite_diff([float(pi)], x -> sin(x[1]), sqrt(eps()), :fw) ≈ [-1]\n",
    "@assert MyFiniteDiff.grad_finite_diff([float(pi)], x -> sin(x[1]), sqrt(eps()), :c) ≈ [-1]\n",
    "\n",
    "# Fails with sqrt(eps()). Big numerical cancellation problems\n",
    "@assert isapprox(MyFiniteDiff.hess_finite_diff([3., 2.], x -> x[1]^2 + x[2]^2, sqrt(eps())*norm([3., 2.])), [2. 0.; 0. 2.], atol=1.2)\n",
    "# much more precise with a bigger step\n",
    "@assert isapprox(MyFiniteDiff.hess_finite_diff([3., 2.], x -> x[1]^2 + x[2]^2, 1e-6), [2. 0.; 0. 2.], atol=5e-3)"
   ]
  }
 ],
 "metadata": {
  "kernelspec": {
   "display_name": "Julia 1.5.1",
   "language": "julia",
   "name": "julia-1.5"
  },
  "language_info": {
   "file_extension": ".jl",
   "mimetype": "application/julia",
   "name": "julia",
   "version": "1.5.1"
  }
 },
 "nbformat": 4,
 "nbformat_minor": 4
}
