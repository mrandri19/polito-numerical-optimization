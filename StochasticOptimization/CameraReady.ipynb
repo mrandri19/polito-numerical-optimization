{
 "cells": [
  {
   "cell_type": "code",
   "execution_count": 2,
   "metadata": {},
   "outputs": [],
   "source": [
    "using Plots, Distributions"
   ]
  },
  {
   "cell_type": "code",
   "execution_count": 23,
   "metadata": {},
   "outputs": [
    {
     "data": {
      "text/plain": [
       "1429.895"
      ]
     },
     "execution_count": 23,
     "metadata": {},
     "output_type": "execute_result"
    }
   ],
   "source": [
    "# Simulates a single realization of the markov chain for 60 days\n",
    "function simulate_realization(M, s1, s2)\n",
    "    # Number of days\n",
    "    days = 60\n",
    "    \n",
    "    # State\n",
    "    # number of worn machines\n",
    "    W = zeros(Int, days)\n",
    "    # number of broken machines\n",
    "    B = zeros(Int, days)\n",
    "    \n",
    "    # probability of new -> worn\n",
    "    p12 = (1/60) + (1/200 - 1/60) * sqrt(1 - ((10 - s1) / 10)^2)\n",
    "    # probability of worn -> broken\n",
    "    p23 = (1/30) + (1/100 - 1/30) * sqrt(1 - ((10 - s2) / 10)^2)\n",
    "    \n",
    "    # Simulate all days\n",
    "    for i in 1:(days-1)\n",
    "        B12 = rand(Binomial(M-W[i]-B[i], p12))\n",
    "        B23 = rand(Binomial(W[i], p23))\n",
    "        \n",
    "        W[i+1] = W[i] + B12 - B23\n",
    "        B[i+1] = B[i] +     + B23 - B[i]\n",
    "    end\n",
    "    \n",
    "    # Calculate the number of new machines every day\n",
    "    N = M * ones(days) - W - B\n",
    "    \n",
    "    N, W, B\n",
    "end\n",
    "\n",
    "# Performs a simulation experiment that calculates the gain at day 60\n",
    "function simulate(M, s1, s2)\n",
    "    gain = 0.0\n",
    "    \n",
    "    realizations = 10_000\n",
    "    for _ in 1:realizations\n",
    "        N, W, B = simulate_realization(M, s1, s2)\n",
    "        gain += 1 * (N[end] + W[end]) - 90 * B[end] - s1 - s2\n",
    "    end\n",
    "    \n",
    "    return gain / realizations\n",
    "end\n",
    "\n",
    "# Parameters\n",
    "# Total number of machines\n",
    "M = 2_000\n",
    "# money spent daily for maintainance of worn machines\n",
    "s1 = 4\n",
    "# money spent daily for maintainance of broken machines\n",
    "s2 = 6\n",
    "simulate(M, s1, s2)"
   ]
  },
  {
   "cell_type": "code",
   "execution_count": 5,
   "metadata": {},
   "outputs": [
    {
     "name": "stdout",
     "output_type": "stream",
     "text": [
      "(2, 2) = 1039.3989\n",
      "(2, 4) = 1188.3406\n",
      "(2, 6) = 1290.7722\n",
      "(2, 8) = 1359.9979\n",
      "(2, 10) = 1376.7439\n",
      "(4, 2) = 1228.1076\n",
      "(4, 4) = 1345.6725\n",
      "(4, 6) = 1425.6817\n",
      "(4, 8) = 1481.0663\n",
      "(4, 10) = 1494.6819\n",
      "(6, 2) = 1348.1477\n",
      "(6, 4) = 1447.8584\n",
      "(6, 6) = 1520.7878\n",
      "(6, 8) = 1559.7378\n",
      "(6, 10) = 1567.3565\n",
      "(8, 2) = 1415.8446\n",
      "(8, 4) = 1505.7182\n",
      "(8, 6) = 1566.1442\n",
      "(8, 8) = 1602.6372\n",
      "(8, 10) = 1618.0364\n",
      "(10, 2) = 1440.5986\n",
      "(10, 4) = 1523.447\n",
      "(10, 6) = 1578.8589\n",
      "(10, 8) = 1613.3044\n",
      "(10, 10) = 1629.286\n",
      "  6.530749 seconds (1.56 M allocations: 827.385 MiB, 1.46% gc time)\n"
     ]
    }
   ],
   "source": [
    "X = []\n",
    "y = []\n",
    "# Calculate the 60th-day gain for all pairs of even numbers from 2 to 10\n",
    "@time for j=2:2:10, k=2:2:10\n",
    "    gain = simulate(M, j, k)\n",
    "    push!(X, [j, k])\n",
    "    push!(y, [gain])\n",
    "    println(\"($j, $k) = $(gain)\")\n",
    "end"
   ]
  },
  {
   "cell_type": "code",
   "execution_count": 7,
   "metadata": {},
   "outputs": [
    {
     "name": "stdout",
     "output_type": "stream",
     "text": [
      "[100]: 170.092\n",
      "[200]: 36.246\n",
      "[300]: 15.659\n",
      "[400]: 7.213\n",
      "[500]: 3.551\n",
      "[600]: 2.806\n",
      "[700]: 2.322\n",
      "[800]: 1.921\n",
      "[900]: 1.675\n",
      "[1000]: 1.516\n"
     ]
    }
   ],
   "source": [
    "using Random\n",
    "\n",
    "sigma(x) = 1 / (1 + exp(-x))\n",
    "sigma_prime(x) = sigma(x) * (1 - sigma(x))\n",
    "\n",
    "function nn(x, W1, b1, W2, b2)\n",
    "    z1 = W1 * x + b1\n",
    "    a1 = sigma.(z1)\n",
    "    z2 = W2 * a1 + b2\n",
    "    a2 = z2\n",
    "    return a2[1]\n",
    "end\n",
    "\n",
    "function compute_loss(W1, b1, W2, b2)\n",
    "    loss = 0.0\n",
    "    for (x, y_true) in zip(X, y)\n",
    "        y_hat = nn(x, W1, b1, W2, b2)\n",
    "\n",
    "        loss += (y_hat[1] - y_true[1])^2\n",
    "    end\n",
    "    loss /= (2 * size(X, 1))\n",
    "    return loss\n",
    "end\n",
    "Random.seed!(1234);\n",
    "\n",
    "mu = 1e-4\n",
    "\n",
    "INPUT_SIZE = 2\n",
    "HIDDEN_LAYER_SIZE = 100\n",
    "W1 = randn(HIDDEN_LAYER_SIZE, INPUT_SIZE)\n",
    "b1 = randn(HIDDEN_LAYER_SIZE, 1)\n",
    "\n",
    "OUTPUT_LAYER_SIZE = 1\n",
    "W2 = randn(OUTPUT_LAYER_SIZE, HIDDEN_LAYER_SIZE)\n",
    "b2 = randn(OUTPUT_LAYER_SIZE, 1)\n",
    "\n",
    "for it in 1:1_000\n",
    "    for (x, y_true) in zip(X, y)\n",
    "        # Forward step to evaluate intermediate results\n",
    "        z1 = W1 * x + b1\n",
    "        a1 = sigma.(z1)\n",
    "        z2 = W2 * a1 + b2\n",
    "        a2 = z2\n",
    "\n",
    "        # Backward step to evaluate parameter derivatives w.r.t. loss\n",
    "        # d(loss)/d(z2) is `dz2`\n",
    "        dz2 = a2 - y_true\n",
    "        dW2 = dz2 * a1'\n",
    "        db2 = dz2\n",
    "\n",
    "        dz1 = (W2' * dz2) .* sigma_prime.(z1)\n",
    "        dW1 = dz1 * x'\n",
    "        db1 = dz1\n",
    "\n",
    "        # Steepest descent to find optimal parameters\n",
    "        W2 -= mu * dW2\n",
    "        b2 -= mu * db2\n",
    "\n",
    "        W1 -= mu * dW1\n",
    "        b1 -= mu * db1\n",
    "    end\n",
    "    \n",
    "    mu *= 0.9995\n",
    "    \n",
    "    if it % 100 == 0\n",
    "        println(\"[$it]: $(round(compute_loss(W1, b1, W2, b2), digits=3))\")\n",
    "    end\n",
    "end"
   ]
  },
  {
   "cell_type": "code",
   "execution_count": 15,
   "metadata": {},
   "outputs": [
    {
     "name": "stdout",
     "output_type": "stream",
     "text": [
      "Gain NN: 664.736, Gain Simulation: 483.158\n",
      "Gain NN: 726.547, Gain Simulation: 592.14\n",
      "Gain NN: 694.046, Gain Simulation: 503.288\n"
     ]
    }
   ],
   "source": [
    "for x in [[0.2, 0.5], [0.3, 0.9], [0.1, 0.9]]\n",
    "    gain_nn = nn(x, W1, b1, W2, b2)\n",
    "    gain_simulation = simulate(M, x[1], x[2])\n",
    "    println(\"Gain NN: $(round(gain_nn, digits=3)), Gain Simulation: $(round(gain_simulation, digits=3))\")\n",
    "end"
   ]
  },
  {
   "cell_type": "code",
   "execution_count": 1,
   "metadata": {},
   "outputs": [
    {
     "ename": "LoadError",
     "evalue": "UndefVarError: nn not defined",
     "output_type": "error",
     "traceback": [
      "UndefVarError: nn not defined",
      "",
      "Stacktrace:",
      " [1] maximize_gain() at ./In[1]:17",
      " [2] top-level scope at In[1]:24",
      " [3] include_string(::Function, ::Module, ::String, ::String) at ./loading.jl:1091"
     ]
    }
   ],
   "source": [
    "function maximize_gain()\n",
    "    x = [rand(2:2:10), rand(2:2:10)]\n",
    "    \n",
    "    mu = 1\n",
    "    \n",
    "    C = 0.1\n",
    "    \n",
    "    for m in 1:1000\n",
    "        h = rand([1, -1], size(x, 1))\n",
    "        c = C / m^0.2\n",
    "        \n",
    "        if m % 100 == 0 \n",
    "            println(\"$(round.(x, digits=2)), $(round(nn(x, W1, b1, W2, b2), digits=0))\")\n",
    "            println(\"c=$(round(c, digits=3))\")\n",
    "        end\n",
    "        \n",
    "        finite_diff = nn(x + c*h, W1, b1, W2, b2) - nn(x - c*h, W1, b1, W2, b2)\n",
    "        dx = [finite_diff / 2*c*h[i] for i in 1:size(x, 1)]\n",
    "        \n",
    "        x += mu * dx\n",
    "    end\n",
    "end\n",
    "\n",
    "maximize_gain()"
   ]
  }
 ],
 "metadata": {
  "kernelspec": {
   "display_name": "Julia 1.5.3",
   "language": "julia",
   "name": "julia-1.5"
  },
  "language_info": {
   "file_extension": ".jl",
   "mimetype": "application/julia",
   "name": "julia",
   "version": "1.5.3"
  }
 },
 "nbformat": 4,
 "nbformat_minor": 4
}
