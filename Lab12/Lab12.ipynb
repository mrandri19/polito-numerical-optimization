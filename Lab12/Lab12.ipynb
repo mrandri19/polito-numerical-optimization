{
 "cells": [
  {
   "cell_type": "code",
   "execution_count": 1,
   "metadata": {},
   "outputs": [],
   "source": [
    "using Plots"
   ]
  },
  {
   "cell_type": "code",
   "execution_count": 121,
   "metadata": {},
   "outputs": [
    {
     "data": {
      "text/plain": [
       "(5, 7)"
      ]
     },
     "execution_count": 121,
     "metadata": {},
     "output_type": "execute_result"
    }
   ],
   "source": [
    "eps = matread(\"test_iplp.mat\")[\"eps\"]\n",
    "A = matread(\"test_iplp.mat\")[\"A\"]\n",
    "c = matread(\"test_iplp.mat\")[\"c\"]\n",
    "b = matread(\"test_iplp.mat\")[\"b\"]\n",
    "eta = matread(\"test_iplp.mat\")[\"eta\"]\n",
    "kmax = matread(\"test_iplp.mat\")[\"kmax\"]\n",
    "\n",
    "m, n = size(A)\n",
    "@assert size(c, 1) == n\n",
    "@assert size(b, 1) == m\n",
    "m, n"
   ]
  },
  {
   "cell_type": "code",
   "execution_count": 122,
   "metadata": {},
   "outputs": [
    {
     "name": "stdout",
     "output_type": "stream",
     "text": [
      "xk = [4.012053859498594e-7, 3.151871597335268e-7, 9.999998963709144, 15.99999887297977, 3.000000084447843, 4.012053859498602e-7, 3.1518715973353103e-7]\n",
      "lambdak = [7.607195153767005e-8, -1.1590980448187494e-8, 8.132554521518028e-10, -0.49999995419098814, -0.49999994908755585]\n",
      "sk = [0.5000000332735678, 0.5000000281701388, 3.0106303361580557e-9, 9.06735623220153e-8, 7.826932642167679e-8, 0.50000003327357, 0.5000000281701378]\n",
      "fk = [7.163925456833862e-7]\n",
      "muk = 3.4744053874541354e-7\n",
      "k = 7\n"
     ]
    },
    {
     "name": "stderr",
     "output_type": "stream",
     "text": [
      "WARNING: replacing module Optimizers.\n"
     ]
    }
   ],
   "source": [
    "module Optimizers\n",
    "using LinearAlgebra\n",
    "function ipm_lm(A, b, c, eta, eps, kmax, x0, lambda0, s0)\n",
    "    m, n = size(A)\n",
    "    @assert size(c, 1) == n\n",
    "    @assert size(b, 1) == m\n",
    "    e = ones(n)\n",
    "    \n",
    "    k = 0\n",
    "    \n",
    "    xk = x0\n",
    "    lambdak = lambda0\n",
    "    sk = s0\n",
    "    etak = eta\n",
    "    \n",
    "    mu0 = (xk' * sk) / n\n",
    "    \n",
    "    while true\n",
    "        if k > kmax\n",
    "            break\n",
    "        end\n",
    "        \n",
    "        muk = (xk' * sk) / n\n",
    "        \n",
    "        if muk <= eps*mu0\n",
    "            break\n",
    "        end\n",
    "        \n",
    "        F(x, lambda, s) = [\n",
    "            A' * lambda + s - c\n",
    "            A * x - b\n",
    "            diagm(x) * diagm(s) * e\n",
    "        ]\n",
    "        JF(x, lambda, s) = [\n",
    "            zeros(n, n)              A'           I(n)\n",
    "                      A     zeros(m, m)    zeros(m, n)\n",
    "                diagm(s)    zeros(n, m)       diagm(x)\n",
    "        ]\n",
    "\n",
    "        # 1. (Prediction)\n",
    "        affine_scaling_step_k = JF(xk, lambdak, sk) \\ -F(xk, lambdak, sk)\n",
    "        delta_xk_aff = affine_scaling_step_k[1:n]\n",
    "        delta_lambdak_aff = affine_scaling_step_k[n+1:n+m]\n",
    "        delta_sk_aff = affine_scaling_step_k[n+m+1:n+m+n]\n",
    "\n",
    "        # 2.\n",
    "        alpha_P_aff = min(1, min([(-(xk[i])/delta_xk_aff[i]) for i in 1:n if delta_xk_aff[i] < 0]...))\n",
    "        alpha_D_aff = min(1, min([(-(sk[i])/delta_sk_aff[i]) for i in 1:n if delta_sk_aff[i] < 0]...))\n",
    "\n",
    "        # 3.\n",
    "        muk_aff = ((xk + alpha_P_aff * delta_xk_aff)' * (sk + alpha_D_aff * delta_sk_aff)) / n\n",
    "        sigmak = (muk_aff / muk)^3\n",
    "\n",
    "        # 4. (Correction)\n",
    "        corrector_step_k = JF(xk, lambdak, sk) \\ (-F(xk, lambdak, sk) + [\n",
    "                zeros(n)\n",
    "                zeros(m)\n",
    "                -diagm(delta_xk_aff)*diagm(delta_sk_aff)*e + sigmak * muk * e\n",
    "        ])\n",
    "        delta_xk = corrector_step_k[1:n]\n",
    "        delta_lambdak = corrector_step_k[n+1:n+m]\n",
    "        delta_sk = corrector_step_k[n+m+1:n+m+n]\n",
    "\n",
    "        # 5.\n",
    "        alpha_P_hat = min(1, min([(-(xk[i])/delta_xk[i]) for i in 1:n if delta_xk[i] < 0]...))\n",
    "        alpha_D_hat = min(1, min([(-(sk[i])/delta_sk[i]) for i in 1:n if delta_sk[i] < 0]...))\n",
    "\n",
    "        alpha_P = min(1, etak * alpha_P_hat)\n",
    "        alpha_D = min(1, etak * alpha_D_hat)\n",
    "\n",
    "        # 6.\n",
    "        xk += alpha_P * delta_xk\n",
    "        lambdak += alpha_D * delta_lambdak\n",
    "        sk += alpha_D * delta_sk\n",
    "        \n",
    "        k += 1\n",
    "    end\n",
    "    \n",
    "    muk = (xk' * sk) / n\n",
    "    fk = c' * xk\n",
    "    \n",
    "    return xk, lambdak, sk, fk, muk, k\n",
    "end\n",
    "end\n",
    "using Main.Optimizers\n",
    "\n",
    "x0 = ones(n)\n",
    "lambda0 = ones(m)\n",
    "s0 = ones(n)\n",
    "\n",
    "xk, lambdak, sk, fk, muk, k = Optimizers.ipm_lm(A, b, c, eta, eps, kmax, x0, lambda0, s0)\n",
    "\n",
    "@show xk\n",
    "@show lambdak\n",
    "@show sk\n",
    "@show fk\n",
    "@show muk\n",
    "@show k\n",
    "\n",
    "nothing"
   ]
  }
 ],
 "metadata": {
  "kernelspec": {
   "display_name": "Julia 1.5.1",
   "language": "julia",
   "name": "julia-1.5"
  },
  "language_info": {
   "file_extension": ".jl",
   "mimetype": "application/julia",
   "name": "julia",
   "version": "1.5.1"
  }
 },
 "nbformat": 4,
 "nbformat_minor": 4
}
