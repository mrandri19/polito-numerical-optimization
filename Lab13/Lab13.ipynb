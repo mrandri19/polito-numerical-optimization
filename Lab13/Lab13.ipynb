{
 "cells": [
  {
   "cell_type": "code",
   "execution_count": 1,
   "metadata": {},
   "outputs": [],
   "source": [
    "using Plots"
   ]
  },
  {
   "cell_type": "code",
   "execution_count": 4,
   "metadata": {},
   "outputs": [],
   "source": [
    "using MAT"
   ]
  },
  {
   "cell_type": "code",
   "execution_count": 8,
   "metadata": {},
   "outputs": [
    {
     "data": {
      "text/plain": [
       "(30, 50)"
      ]
     },
     "execution_count": 8,
     "metadata": {},
     "output_type": "execute_result"
    }
   ],
   "source": [
    "eps = matread(\"test_ipqp.mat\")[\"eps\"]\n",
    "Q = matread(\"test_ipqp.mat\")[\"Q\"]\n",
    "A = matread(\"test_ipqp.mat\")[\"A\"]\n",
    "c = matread(\"test_ipqp.mat\")[\"c\"]\n",
    "b = matread(\"test_ipqp.mat\")[\"b\"]\n",
    "tau = matread(\"test_ipqp.mat\")[\"tau\"]\n",
    "kmax = matread(\"test_ipqp.mat\")[\"kmax\"]\n",
    "\n",
    "m, n = size(A)\n",
    "@assert size(Q) == (n, n)\n",
    "@assert size(c, 1) == n\n",
    "@assert size(b, 1) == m\n",
    "m, n"
   ]
  },
  {
   "cell_type": "code",
   "execution_count": null,
   "metadata": {},
   "outputs": [],
   "source": []
  }
 ],
 "metadata": {
  "kernelspec": {
   "display_name": "Julia 1.5.3",
   "language": "julia",
   "name": "julia-1.5"
  },
  "language_info": {
   "file_extension": ".jl",
   "mimetype": "application/julia",
   "name": "julia",
   "version": "1.5.3"
  }
 },
 "nbformat": 4,
 "nbformat_minor": 4
}
