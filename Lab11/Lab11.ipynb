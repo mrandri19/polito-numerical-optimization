{
 "cells": [
  {
   "cell_type": "code",
   "execution_count": 1,
   "metadata": {},
   "outputs": [],
   "source": [
    "using Plots\n"
   ]
  },
  {
   "cell_type": "code",
   "execution_count": 10,
   "metadata": {},
   "outputs": [],
   "source": [
    "using LinearAlgebra"
   ]
  },
  {
   "cell_type": "code",
   "execution_count": 136,
   "metadata": {},
   "outputs": [
    {
     "name": "stdout",
     "output_type": "stream",
     "text": [
      "((Optimizers.QPeq_Schur(Q, inv(Q), c, A, b))[1])[1:5] = [-13.318342239632344, -2.355529992263436, -41.03933405928532, -0.8791618885312952, -3.139410164264138]\n",
      "((Optimizers.QPeq_Null(Q, c, A, b, x2))[1])[1:5] = "
     ]
    },
    {
     "name": "stderr",
     "output_type": "stream",
     "text": [
      "WARNING: replacing module Optimizers.\n"
     ]
    },
    {
     "name": "stdout",
     "output_type": "stream",
     "text": [
      "[-0.8276005678536449, -0.12475861709200808, 0.9518763888177866, 0.8028359519672044, 1.115510655564293]\n"
     ]
    }
   ],
   "source": [
    "module Optimizers\n",
    "using LinearAlgebra\n",
    "\n",
    "\"\"\"\n",
    "    QPeq_Schur(Q, Qinv, c, A, b)\n",
    "\n",
    "Solve an equality-only quadratic programming problem\n",
    "\n",
    "# Arguments\n",
    "\n",
    "- `Q::AbstractMatrix{T}`: the matrix Q of the quadratic cost\n",
    "\n",
    "- `Qinv::AbstractMatrix{T}`: the inverse of matrix Q\n",
    "\n",
    "- `c::AbstractVector{T}`: the vector c of the quadratic cost\n",
    "\n",
    "- `A::AbstractMatrix{T}`: the matrix A of the equality constraints\n",
    "\n",
    "- `b::AbstractVector{T}`: the vector b of the equality constraints\n",
    "\n",
    "\"\"\"\n",
    "function QPeq_Schur(Q, Qinv, c, A, b)\n",
    "    lambda_star = (A * Qinv * A') \\ (-b + A * Qinv * c)\n",
    "    xstar = - Qinv * (c + A' * lambda_star)\n",
    "    \n",
    "    fxstar = 1/2 * xstar' * Q * xstar + c' * xstar\n",
    "    \n",
    "    return xstar, fxstar, lambda_star\n",
    "end\n",
    "\n",
    "\"\"\"\n",
    "    QPeq_Schur_autoinv(Q, Qinv, c, A, b)\n",
    "\n",
    "Solve an equality-only quadratic programming problem, avoiding the inverse\n",
    "computation of Q\n",
    "\n",
    "# Arguments\n",
    "\n",
    "- `Q::AbstractMatrix{T}`: the matrix Q of the quadratic cost\n",
    "\n",
    "- `c::AbstractVector{T}`: the vector c of the quadratic cost\n",
    "\n",
    "- `A::AbstractMatrix{T}`: the matrix A of the equality constraints\n",
    "\n",
    "- `b::AbstractVector{T}`: the vector b of the equality constraints\n",
    "\n",
    "\"\"\"\n",
    "function QPeq_Schur_autoinv(Q, c, A, b)\n",
    "    Qinvc = Q \\ c\n",
    "    QinvAt = Q \\ A'\n",
    "    \n",
    "    lambda_star = (A * QinvAt) \\ (-b + A * Qinvc)\n",
    "    xstar = - Qinvc - QinvAt * lambda_star\n",
    "    \n",
    "    fxstar = 1/2 * xstar' * Q * xstar + c' * xstar\n",
    "    \n",
    "    return xstar, fxstar, lambda_star\n",
    "end\n",
    "\n",
    "function QPeq_Null(Q, c, A, b, x2)\n",
    "    m, n = size(A)\n",
    "    A1 = A[1:m, 1:m]\n",
    "    A2 = A[1:m, (m+1):n]\n",
    "    \n",
    "    xhat = [inv(A1)*(b - A2*x2); x2]\n",
    "    \n",
    "    Z = [(-inv(A1) * A2); I(n-m)]\n",
    "    \n",
    "    v_star = (Z' * Q * Z) \\ (- Z' * (c + Q * xhat))\n",
    "    xstar = Z * v_star + xhat\n",
    "    lambda_star = (A * A') \\ (-A * (c + Q * xstar))\n",
    "    \n",
    "    fxstar = 1/2 * xstar' * Q * xstar + c' * xstar\n",
    "    \n",
    "    return xstar, fxstar, lambda_star, v_star\n",
    "end\n",
    "\n",
    "\n",
    "end\n",
    "\n",
    "import Main.Optimizers\n",
    "\n",
    "n = 50\n",
    "m = 10\n",
    "A = rand(m, n)\n",
    "@assert rank(A) == m\n",
    "b = rand(m)\n",
    "c = rand(n)\n",
    "Q = diagm(rand(n))\n",
    "\n",
    "@assert isapprox(Optimizers.QPeq_Schur(Q, inv(Q), c, A, b)[1], Optimizers.QPeq_Schur_autoinv(Q, c, A, b)[1])\n",
    "@assert isapprox(Optimizers.QPeq_Schur(Q, inv(Q), c, A, b)[2], Optimizers.QPeq_Schur_autoinv(Q, c, A, b)[2])\n",
    "@assert isapprox(Optimizers.QPeq_Schur(Q, inv(Q), c, A, b)[3], Optimizers.QPeq_Schur_autoinv(Q, c, A, b)[3])\n",
    ";\n",
    "\n",
    "A1 = A[1:m, 1:m]\n",
    "A2 = A[1:m, (m+1):n]\n",
    "x2 = [inv(A1)*b; zeros(n - m - m)]\n",
    "\n",
    "@show Optimizers.QPeq_Schur(Q, inv(Q), c, A, b)[1][1:5]\n",
    "@show Optimizers.QPeq_Null(Q, c, A, b, x2)[1][1:5]\n",
    ";"
   ]
  }
 ],
 "metadata": {
  "kernelspec": {
   "display_name": "Julia 1.5.3",
   "language": "julia",
   "name": "julia-1.5"
  },
  "language_info": {
   "file_extension": ".jl",
   "mimetype": "application/julia",
   "name": "julia",
   "version": "1.5.3"
  }
 },
 "nbformat": 4,
 "nbformat_minor": 4
}
