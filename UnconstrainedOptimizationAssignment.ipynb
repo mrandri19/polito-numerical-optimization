{
 "cells": [
  {
   "cell_type": "code",
   "execution_count": 25,
   "metadata": {},
   "outputs": [],
   "source": [
    "using LinearAlgebra, BenchmarkTools, TimerOutputs"
   ]
  },
  {
   "cell_type": "markdown",
   "metadata": {},
   "source": [
    "---"
   ]
  },
  {
   "cell_type": "code",
   "execution_count": 4,
   "metadata": {},
   "outputs": [
    {
     "name": "stdout",
     "output_type": "stream",
     "text": [
      "f(ones(3)) = 5.25\n"
     ]
    },
    {
     "data": {
      "text/plain": [
       "BenchmarkTools.Trial: \n",
       "  memory estimate:  0 bytes\n",
       "  allocs estimate:  0\n",
       "  --------------\n",
       "  minimum time:     34.300 μs (0.00% GC)\n",
       "  median time:      34.400 μs (0.00% GC)\n",
       "  mean time:        36.490 μs (0.00% GC)\n",
       "  maximum time:     196.100 μs (0.00% GC)\n",
       "  --------------\n",
       "  samples:          10000\n",
       "  evals/sample:     1"
      ]
     },
     "execution_count": 4,
     "metadata": {},
     "output_type": "execute_result"
    }
   ],
   "source": [
    "@views @fastmath function f(x)\n",
    "    val = 0.0\n",
    "     for i = eachindex(x)\n",
    "        val += 1/4 * x[i]^4 + 1/2 * x[i]^2 + x[i]\n",
    "    end\n",
    "    return val\n",
    "end\n",
    "\n",
    "@show f(ones(3))\n",
    "@benchmark f($(ones(Float64, Int(1e4)) .+ 0.121214))"
   ]
  },
  {
   "cell_type": "code",
   "execution_count": 5,
   "metadata": {},
   "outputs": [
    {
     "name": "stdout",
     "output_type": "stream",
     "text": [
      "∇f(ones(3)) = [3.0, 3.0, 3.0]\n"
     ]
    },
    {
     "data": {
      "text/plain": [
       "BenchmarkTools.Trial: \n",
       "  memory estimate:  78.20 KiB\n",
       "  allocs estimate:  2\n",
       "  --------------\n",
       "  minimum time:     8.800 μs (0.00% GC)\n",
       "  median time:      9.300 μs (0.00% GC)\n",
       "  mean time:        12.123 μs (6.53% GC)\n",
       "  maximum time:     589.800 μs (98.27% GC)\n",
       "  --------------\n",
       "  samples:          10000\n",
       "  evals/sample:     1"
      ]
     },
     "execution_count": 5,
     "metadata": {},
     "output_type": "execute_result"
    }
   ],
   "source": [
    "@views @fastmath ∇f(x) = [x[i]^3 + x[i] + 1 for i = eachindex(x)]\n",
    "@show ∇f(ones(3))\n",
    "@benchmark ∇f($(ones(Float64, Int(1e4))))"
   ]
  },
  {
   "cell_type": "markdown",
   "metadata": {},
   "source": [
    "---"
   ]
  },
  {
   "cell_type": "code",
   "execution_count": 6,
   "metadata": {},
   "outputs": [
    {
     "data": {
      "text/plain": [
       "backtrack (generic function with 1 method)"
      ]
     },
     "execution_count": 6,
     "metadata": {},
     "output_type": "execute_result"
    }
   ],
   "source": [
    "@views function backtrack(xk, dk, f, ∇fk, α0, c1, ρ, btmax) :: Tuple{Int, Float64}\n",
    "    α = α0\n",
    "    bt = 1\n",
    "    fk = f(xk)\n",
    "    ∇f_dk = ∇fk' * dk\n",
    "    while bt < btmax\n",
    "         if (f(xk + α * dk) < fk + c1 * α * ∇f_dk)\n",
    "            break\n",
    "        end\n",
    "        α = ρ * α\n",
    "        bt += 1\n",
    "    end\n",
    "    return bt, α\n",
    "end"
   ]
  },
  {
   "cell_type": "code",
   "execution_count": 7,
   "metadata": {},
   "outputs": [
    {
     "data": {
      "text/plain": [
       "BenchmarkTools.Trial: \n",
       "  memory estimate:  91.19 MiB\n",
       "  allocs estimate:  2388\n",
       "  --------------\n",
       "  minimum time:     34.617 ms (3.02% GC)\n",
       "  median time:      38.344 ms (3.16% GC)\n",
       "  mean time:        41.732 ms (3.47% GC)\n",
       "  maximum time:     81.641 ms (2.82% GC)\n",
       "  --------------\n",
       "  samples:          120\n",
       "  evals/sample:     1"
      ]
     },
     "execution_count": 7,
     "metadata": {},
     "output_type": "execute_result"
    }
   ],
   "source": [
    "function steepest_descent(\n",
    "        x0,\n",
    "        f, ∇f,\n",
    "        rel_diff=1e-8, kmax=1000,\n",
    "        α0=5.0, c1=1e-4, ρ=0.8, btmax=50\n",
    "    )\n",
    "    k = 0\n",
    "    xk = x0\n",
    "    \n",
    "    while k < kmax\n",
    "        ∇fk = ∇f(xk)\n",
    "        dk = -∇fk\n",
    "        \n",
    "        bt, αk = backtrack(xk, dk, f, ∇fk, α0, c1, ρ, btmax)\n",
    "        \n",
    "        xk_new = xk + αk * dk\n",
    "        if norm(xk_new - xk) / norm(xk) < rel_diff\n",
    "            break\n",
    "        end\n",
    "        xk = xk_new\n",
    "            \n",
    "        k += 1\n",
    "    end\n",
    "    \n",
    "    return xk, k\n",
    "end\n",
    "\n",
    "x0 = ones(Int(1e4));\n",
    "xk, k = steepest_descent(x0, f, ∇f)\n",
    "for x in xk @assert isapprox(-0.68233, x;atol=1e-3) end\n",
    "@benchmark steepest_descent($x0, $f, $∇f)"
   ]
  },
  {
   "cell_type": "code",
   "execution_count": 8,
   "metadata": {},
   "outputs": [
    {
     "data": {
      "text/plain": [
       "BenchmarkTools.Trial: \n",
       "  memory estimate:  113.64 MiB\n",
       "  allocs estimate:  2976\n",
       "  --------------\n",
       "  minimum time:     40.870 ms (4.19% GC)\n",
       "  median time:      47.334 ms (3.94% GC)\n",
       "  mean time:        53.634 ms (3.91% GC)\n",
       "  maximum time:     107.098 ms (4.45% GC)\n",
       "  --------------\n",
       "  samples:          94\n",
       "  evals/sample:     1"
      ]
     },
     "execution_count": 8,
     "metadata": {},
     "output_type": "execute_result"
    }
   ],
   "source": [
    "function fletcher_reeves(\n",
    "        x0,\n",
    "        f, ∇f,\n",
    "        rel_diff=1e-8, kmax=1000,\n",
    "        α0=5.0, c1=1e-4, ρ=0.8, btmax=50\n",
    "    )\n",
    "    xk = x0\n",
    "    ∇fk = ∇f(xk)\n",
    "    \n",
    "    pk = -∇fk\n",
    "    k = 0\n",
    "    \n",
    "    while k < kmax\n",
    "        bt, αk = backtrack(xk, pk, f, ∇fk, α0, c1, ρ, btmax)\n",
    "        \n",
    "        xkp1 = xk + αk * pk\n",
    "        if norm(xkp1 - xk) / norm(xkp1) < rel_diff\n",
    "            break\n",
    "        end\n",
    "        \n",
    "        ∇fkp1 = ∇f(xkp1)\n",
    "        βkp1 = (∇fkp1' * ∇fkp1) / (∇fk' * ∇fk)\n",
    "        \n",
    "        pk = -∇fkp1 + βkp1 * pk\n",
    "        \n",
    "        xk = xkp1\n",
    "        ∇fk = ∇fkp1\n",
    "        \n",
    "        k = k + 1\n",
    "    end\n",
    "    \n",
    "    return xk, k\n",
    "end\n",
    "\n",
    "x0 = ones(Int(1e4));\n",
    "xk, k = fletcher_reeves(x0, f, ∇f)\n",
    "for x in xk @assert isapprox(-0.68233, x;atol=1e-3) end\n",
    "@benchmark fletcher_reeves($x0, $f, $∇f)"
   ]
  },
  {
   "cell_type": "code",
   "execution_count": 9,
   "metadata": {},
   "outputs": [
    {
     "data": {
      "text/plain": [
       "BenchmarkTools.Trial: \n",
       "  memory estimate:  335.65 MiB\n",
       "  allocs estimate:  8790\n",
       "  --------------\n",
       "  minimum time:     131.658 ms (3.49% GC)\n",
       "  median time:      134.745 ms (3.52% GC)\n",
       "  mean time:        136.238 ms (3.43% GC)\n",
       "  maximum time:     152.757 ms (2.92% GC)\n",
       "  --------------\n",
       "  samples:          37\n",
       "  evals/sample:     1"
      ]
     },
     "execution_count": 9,
     "metadata": {},
     "output_type": "execute_result"
    }
   ],
   "source": [
    "function polak_ribiere(\n",
    "        x0,\n",
    "        f, ∇f,\n",
    "        rel_diff=1e-8, kmax=1000,\n",
    "        α0=5.0, c1=1e-4, ρ=0.8, btmax=50\n",
    "    )\n",
    "    xk = x0\n",
    "    ∇fk = ∇f(xk)\n",
    "    \n",
    "    pk = -∇fk\n",
    "    k = 0\n",
    "    \n",
    "    while k < kmax\n",
    "        bt, αk = backtrack(xk, pk, f, ∇fk, α0, c1, ρ, btmax)\n",
    "        \n",
    "        xkp1 = xk + αk * pk\n",
    "        if norm(xkp1 - xk) / norm(xkp1) < rel_diff\n",
    "            break\n",
    "        end\n",
    "        \n",
    "        ∇fkp1 = ∇f(xkp1)\n",
    "        βkp1 = (∇fkp1' * (∇fkp1 - ∇fk)) / (∇fk' * ∇fk)\n",
    "        \n",
    "        pk = -∇fkp1 + βkp1 * pk\n",
    "        \n",
    "        xk = xkp1\n",
    "        ∇fk = ∇fkp1\n",
    "        \n",
    "        k = k + 1\n",
    "    end\n",
    "    \n",
    "    return xk, k\n",
    "end\n",
    "\n",
    "x0 = ones(Int(1e4));\n",
    "xk, k = polak_ribiere(x0, f, ∇f)\n",
    "for x in xk @assert isapprox(-0.68233, x;atol=1e-3) end\n",
    "@benchmark polak_ribiere($x0, $f, $∇f)"
   ]
  },
  {
   "cell_type": "markdown",
   "metadata": {},
   "source": [
    "---"
   ]
  },
  {
   "cell_type": "markdown",
   "metadata": {},
   "source": [
    "## Finite differences"
   ]
  },
  {
   "cell_type": "code",
   "execution_count": 10,
   "metadata": {},
   "outputs": [
    {
     "data": {
      "text/plain": [
       "g (generic function with 1 method)"
      ]
     },
     "execution_count": 10,
     "metadata": {},
     "output_type": "execute_result"
    }
   ],
   "source": [
    "g(x) = 1/4 * x^4 + 1/2 * x ^ 2 + x"
   ]
  },
  {
   "cell_type": "code",
   "execution_count": 11,
   "metadata": {},
   "outputs": [
    {
     "data": {
      "text/plain": [
       "BenchmarkTools.Trial: \n",
       "  memory estimate:  7.94 KiB\n",
       "  allocs estimate:  1\n",
       "  --------------\n",
       "  minimum time:     31.700 μs (0.00% GC)\n",
       "  median time:      31.800 μs (0.00% GC)\n",
       "  mean time:        33.795 μs (0.30% GC)\n",
       "  maximum time:     1.131 ms (91.11% GC)\n",
       "  --------------\n",
       "  samples:          10000\n",
       "  evals/sample:     1"
      ]
     },
     "execution_count": 11,
     "metadata": {},
     "output_type": "execute_result"
    }
   ],
   "source": [
    "@views function ∇f_fwd_diff(x; k=8)\n",
    "    h = 10.0^(-k)\n",
    "    return [(g(x[i] + h) - g(x[i])) / h for i = eachindex(x)]\n",
    "end\n",
    "\n",
    "@views function ∇f_cnt_diff(x; k=8)\n",
    "    h = 10.0^(-k) * norm(x)\n",
    "    return [(g(x[i] + h) - g(x[i] - h)) / 2h for i = eachindex(x)]\n",
    "end\n",
    "\n",
    "@benchmark ∇f_fwd_diff($(ones(1_000)); k=8)"
   ]
  },
  {
   "cell_type": "markdown",
   "metadata": {},
   "source": [
    "---"
   ]
  },
  {
   "cell_type": "code",
   "execution_count": 12,
   "metadata": {},
   "outputs": [
    {
     "data": {
      "text/plain": [
       "pretty_print2 (generic function with 2 methods)"
      ]
     },
     "execution_count": 12,
     "metadata": {},
     "output_type": "execute_result"
    }
   ],
   "source": [
    "function pretty_print2(d::Dict, pre=1)\n",
    "    todo = Vector{Tuple}()\n",
    "    for (k,v) in d\n",
    "        if typeof(v) <: Dict\n",
    "            push!(todo, (k,v))\n",
    "        else\n",
    "            println(join(fill(\" \", pre)) * \"$(repr(k)) => $(repr(v))\")\n",
    "        end\n",
    "    end\n",
    "\n",
    "    for (k,d) in todo\n",
    "        s = \"$(repr(k)) => \"\n",
    "        println(join(fill(\" \", pre)) * s)\n",
    "        pretty_print2(d, pre+1+length(s))\n",
    "    end\n",
    "    nothing\n",
    "end\n"
   ]
  },
  {
   "cell_type": "code",
   "execution_count": 38,
   "metadata": {},
   "outputs": [
    {
     "name": "stdout",
     "output_type": "stream",
     "text": [
      "steepest_descent, 1e3, ∇f\n",
      "steepest_descent, 1e3, ∇f_fwd_diff, 2\n",
      "steepest_descent, 1e3, ∇f_fwd_diff, 4\n",
      "steepest_descent, 1e3, ∇f_fwd_diff, 6\n",
      "steepest_descent, 1e3, ∇f_fwd_diff, 8\n",
      "steepest_descent, 1e3, ∇f_fwd_diff, 10\n",
      "steepest_descent, 1e3, ∇f_fwd_diff, 12\n",
      "steepest_descent, 1e3, ∇f_fwd_diff, 14\n",
      "steepest_descent, 1e3, ∇f_cnt_diff, 2\n",
      "steepest_descent, 1e3, ∇f_cnt_diff, 4\n",
      "steepest_descent, 1e3, ∇f_cnt_diff, 6\n",
      "steepest_descent, 1e3, ∇f_cnt_diff, 8\n",
      "steepest_descent, 1e3, ∇f_cnt_diff, 10\n",
      "steepest_descent, 1e3, ∇f_cnt_diff, 12\n",
      "steepest_descent, 1e3, ∇f_cnt_diff, 14\n",
      "steepest_descent, 1e4, ∇f\n",
      "steepest_descent, 1e4, ∇f_fwd_diff, 2\n",
      "steepest_descent, 1e4, ∇f_fwd_diff, 4\n",
      "steepest_descent, 1e4, ∇f_fwd_diff, 6\n",
      "steepest_descent, 1e4, ∇f_fwd_diff, 8\n",
      "steepest_descent, 1e4, ∇f_fwd_diff, 10\n",
      "steepest_descent, 1e4, ∇f_fwd_diff, 12\n",
      "steepest_descent, 1e4, ∇f_fwd_diff, 14\n",
      "steepest_descent, 1e4, ∇f_cnt_diff, 2\n",
      "steepest_descent, 1e4, ∇f_cnt_diff, 4\n",
      "steepest_descent, 1e4, ∇f_cnt_diff, 6\n",
      "steepest_descent, 1e4, ∇f_cnt_diff, 8\n",
      "steepest_descent, 1e4, ∇f_cnt_diff, 10\n",
      "steepest_descent, 1e4, ∇f_cnt_diff, 12\n",
      "steepest_descent, 1e4, ∇f_cnt_diff, 14\n",
      "fletcher_reeves, 1e3, ∇f\n",
      "fletcher_reeves, 1e3, ∇f_fwd_diff, 2\n",
      "fletcher_reeves, 1e3, ∇f_fwd_diff, 4\n",
      "fletcher_reeves, 1e3, ∇f_fwd_diff, 6\n",
      "fletcher_reeves, 1e3, ∇f_fwd_diff, 8\n",
      "fletcher_reeves, 1e3, ∇f_fwd_diff, 10\n",
      "fletcher_reeves, 1e3, ∇f_fwd_diff, 12\n",
      "fletcher_reeves, 1e3, ∇f_fwd_diff, 14\n",
      "fletcher_reeves, 1e3, ∇f_cnt_diff, 2\n",
      "fletcher_reeves, 1e3, ∇f_cnt_diff, 4\n",
      "fletcher_reeves, 1e3, ∇f_cnt_diff, 6\n",
      "fletcher_reeves, 1e3, ∇f_cnt_diff, 8\n",
      "fletcher_reeves, 1e3, ∇f_cnt_diff, 10\n",
      "fletcher_reeves, 1e3, ∇f_cnt_diff, 12\n",
      "fletcher_reeves, 1e3, ∇f_cnt_diff, 14\n",
      "fletcher_reeves, 1e4, ∇f\n",
      "fletcher_reeves, 1e4, ∇f_fwd_diff, 2\n",
      "fletcher_reeves, 1e4, ∇f_fwd_diff, 4\n",
      "fletcher_reeves, 1e4, ∇f_fwd_diff, 6\n",
      "fletcher_reeves, 1e4, ∇f_fwd_diff, 8\n",
      "fletcher_reeves, 1e4, ∇f_fwd_diff, 10\n",
      "fletcher_reeves, 1e4, ∇f_fwd_diff, 12\n",
      "fletcher_reeves, 1e4, ∇f_fwd_diff, 14\n",
      "fletcher_reeves, 1e4, ∇f_cnt_diff, 2\n",
      "fletcher_reeves, 1e4, ∇f_cnt_diff, 4\n",
      "fletcher_reeves, 1e4, ∇f_cnt_diff, 6\n",
      "fletcher_reeves, 1e4, ∇f_cnt_diff, 8\n",
      "fletcher_reeves, 1e4, ∇f_cnt_diff, 10\n",
      "fletcher_reeves, 1e4, ∇f_cnt_diff, 12\n",
      "fletcher_reeves, 1e4, ∇f_cnt_diff, 14\n",
      "polak_ribiere, 1e3, ∇f\n",
      "polak_ribiere, 1e3, ∇f_fwd_diff, 2\n",
      "polak_ribiere, 1e3, ∇f_fwd_diff, 4\n",
      "polak_ribiere, 1e3, ∇f_fwd_diff, 6\n",
      "polak_ribiere, 1e3, ∇f_fwd_diff, 8\n",
      "polak_ribiere, 1e3, ∇f_fwd_diff, 10\n",
      "polak_ribiere, 1e3, ∇f_fwd_diff, 12\n",
      "polak_ribiere, 1e3, ∇f_fwd_diff, 14\n",
      "polak_ribiere, 1e3, ∇f_cnt_diff, 2\n",
      "polak_ribiere, 1e3, ∇f_cnt_diff, 4\n",
      "polak_ribiere, 1e3, ∇f_cnt_diff, 6\n",
      "polak_ribiere, 1e3, ∇f_cnt_diff, 8\n",
      "polak_ribiere, 1e3, ∇f_cnt_diff, 10\n",
      "polak_ribiere, 1e3, ∇f_cnt_diff, 12\n",
      "polak_ribiere, 1e3, ∇f_cnt_diff, 14\n",
      "polak_ribiere, 1e4, ∇f\n",
      "polak_ribiere, 1e4, ∇f_fwd_diff, 2\n",
      "polak_ribiere, 1e4, ∇f_fwd_diff, 4\n",
      "polak_ribiere, 1e4, ∇f_fwd_diff, 6\n",
      "polak_ribiere, 1e4, ∇f_fwd_diff, 8\n",
      "polak_ribiere, 1e4, ∇f_fwd_diff, 10\n",
      "polak_ribiere, 1e4, ∇f_fwd_diff, 12\n",
      "polak_ribiere, 1e4, ∇f_fwd_diff, 14\n",
      "polak_ribiere, 1e4, ∇f_cnt_diff, 2\n",
      "polak_ribiere, 1e4, ∇f_cnt_diff, 4\n",
      "polak_ribiere, 1e4, ∇f_cnt_diff, 6\n",
      "polak_ribiere, 1e4, ∇f_cnt_diff, 8\n",
      "polak_ribiere, 1e4, ∇f_cnt_diff, 10\n",
      "polak_ribiere, 1e4, ∇f_cnt_diff, 12\n",
      "polak_ribiere, 1e4, ∇f_cnt_diff, 14\n",
      " :steepest_descent => \n",
      "                       4 => \n",
      "                             :∇f => (47, 0.0523391)\n",
      "                             :∇f_fwd_diff => \n",
      "                                              4 => (978, 3.6772187)\n",
      "                                              14 => (30, 0.0547073)\n",
      "                                              10 => (52, 0.0820851)\n",
      "                                              2 => (1000, 4.2265954)\n",
      "                                              8 => (48, 0.0652275)\n",
      "                                              6 => (51, 0.0820279)\n",
      "                                              12 => (40, 0.0554512)\n",
      "                             :∇f_cnt_diff => \n",
      "                                              4 => (51, 0.0816152)\n",
      "                                              14 => (43, 0.062422)\n",
      "                                              10 => (49, 0.0711211)\n",
      "                                              2 => (1000, 3.6964618)\n",
      "                                              8 => (45, 0.0747898)\n",
      "                                              6 => (48, 0.076859)\n",
      "                                              12 => (47, 0.0804107)\n",
      "                       3 => \n",
      "                             :∇f => (53, 0.0038329)\n",
      "                             :∇f_fwd_diff => \n",
      "                                              4 => (984, 0.5158106)\n",
      "                                              14 => (30, 0.0058048)\n",
      "                                              10 => (52, 0.0088573)\n",
      "                                              2 => (1000, 0.4716952)\n",
      "                                              8 => (48, 0.0117064)\n",
      "                                              6 => (50, 0.0100059)\n",
      "                                              12 => (40, 0.0059145)\n",
      "                             :∇f_cnt_diff => \n",
      "                                              4 => (50, 0.0143437)\n",
      "                                              14 => (38, 0.0106791)\n",
      "                                              10 => (51, 0.0114023)\n",
      "                                              2 => (1000, 0.4471386)\n",
      "                                              8 => (52, 0.0102511)\n",
      "                                              6 => (54, 0.0131564)\n",
      "                                              12 => (51, 0.0154495)\n",
      " :fletcher_reeves => \n",
      "                      4 => \n",
      "                            :∇f => (65, 0.041059)\n",
      "                            :∇f_fwd_diff => \n",
      "                                             4 => (31, 0.0513736)\n",
      "                                             14 => (25, 0.0417047)\n",
      "                                             10 => (63, 0.0819495)\n",
      "                                             2 => (602, 2.3802967)\n",
      "                                             8 => (70, 0.0959107)\n",
      "                                             6 => (58, 0.0826479)\n",
      "                                             12 => (48, 0.0782255)\n",
      "                            :∇f_cnt_diff => \n",
      "                                             4 => (40, 0.0820931)\n",
      "                                             14 => (48, 0.1065114)\n",
      "                                             10 => (69, 0.095827)\n",
      "                                             2 => (709, 3.2896608)\n",
      "                                             8 => (60, 0.0957128)\n",
      "                                             6 => (58, 0.0811839)\n",
      "                                             12 => (63, 0.1047689)\n",
      "                      3 => \n",
      "                            :∇f => (64, 0.0053744)\n",
      "                            :∇f_fwd_diff => \n",
      "                                             4 => (31, 0.0073132)\n",
      "                                             14 => (24, 0.0033028)\n",
      "                                             10 => (57, 0.0114608)\n",
      "                                             2 => (602, 0.2914376)\n",
      "                                             8 => (66, 0.0109495)\n",
      "                                             6 => (61, 0.0133564)\n",
      "                                             12 => (39, 0.006765)\n",
      "                            :∇f_cnt_diff => \n",
      "                                             4 => (40, 0.0098078)\n",
      "                                             14 => (38, 0.0051386)\n",
      "                                             10 => (62, 0.0081419)\n",
      "                                             2 => (684, 0.2889873)\n",
      "                                             8 => (66, 0.0108934)\n",
      "                                             6 => (69, 0.0126885)\n",
      "                                             12 => (56, 0.0089221)\n",
      " :polak_ribiere => \n",
      "                    4 => \n",
      "                          :∇f => (65, 0.1434258)\n",
      "                          :∇f_fwd_diff => \n",
      "                                           4 => (77, 0.285118)\n",
      "                                           14 => (49, 0.137148)\n",
      "                                           10 => (65, 0.1963061)\n",
      "                                           2 => (45, 0.185797)\n",
      "                                           8 => (65, 0.2173376)\n",
      "                                           6 => (65, 0.2890489)\n",
      "                                           12 => (73, 0.2157344)\n",
      "                          :∇f_cnt_diff => \n",
      "                                           4 => (87, 0.2715047)\n",
      "                                           14 => (69, 0.2048438)\n",
      "                                           10 => (65, 0.1846947)\n",
      "                                           2 => (1000, 4.2559556)\n",
      "                                           8 => (65, 0.1855549)\n",
      "                                           6 => (65, 0.1948589)\n",
      "                                           12 => (65, 0.1813573)\n",
      "                    3 => \n",
      "                          :∇f => (65, 0.0334811)\n",
      "                          :∇f_fwd_diff => \n",
      "                                           4 => (77, 0.0294705)\n",
      "                                           14 => (63, 0.0213398)\n",
      "                                           10 => (65, 0.0204363)\n",
      "                                           2 => (45, 0.0574326)\n",
      "                                           8 => (65, 0.0263504)\n",
      "                                           6 => (65, 0.0308296)\n",
      "                                           12 => (73, 0.0250738)\n",
      "                          :∇f_cnt_diff => \n",
      "                                           4 => (71, 0.0309218)\n",
      "                                           14 => (69, 0.0215809)\n",
      "                                           10 => (65, 0.0187357)\n",
      "                                           2 => (1000, 0.456359)\n",
      "                                           8 => (65, 0.0173629)\n",
      "                                           6 => (65, 0.0191199)\n",
      "                                           12 => (65, 0.0191702)\n"
     ]
    }
   ],
   "source": [
    "results = Dict()\n",
    "for optimization_method in [steepest_descent, fletcher_reeves, polak_ribiere]\n",
    "    results[Symbol(optimization_method)] = Dict()\n",
    "    for input_arr in [ones(Int(1e3)), ones(Int(1e4))]\n",
    "        results[Symbol(optimization_method)][Int(log10(length(input_arr)))] = Dict()\n",
    "        for gradient_method in [∇f, ∇f_fwd_diff, ∇f_cnt_diff]\n",
    "            results[Symbol(optimization_method)][Int(log10(length(input_arr)))][Symbol(gradient_method)] = Dict()\n",
    "            if gradient_method == ∇f_fwd_diff || gradient_method == ∇f_cnt_diff\n",
    "                for k = 2:2:14\n",
    "                    results[Symbol(optimization_method)][Int(log10(length(input_arr)))][Symbol(gradient_method)][k] = -1\n",
    "                end\n",
    "            else\n",
    "                results[Symbol(optimization_method)][Int(log10(length(input_arr)))][Symbol(gradient_method)] = -1\n",
    "            end\n",
    "        end\n",
    "    end\n",
    "end\n",
    "\n",
    "for optimization_method in [steepest_descent, fletcher_reeves, polak_ribiere]\n",
    "    for input_arr in [ones(Int(1e3)), ones(Int(1e4))] \n",
    "        for gradient_method in [∇f, ∇f_fwd_diff, ∇f_cnt_diff]\n",
    "            if gradient_method == ∇f_fwd_diff || gradient_method == ∇f_cnt_diff\n",
    "                for k = 2:2:14\n",
    "                    println(\"$(Symbol(optimization_method)), 1e$(Int(log10(length(input_arr)))), $(Symbol(gradient_method)), $k\")\n",
    "                    stats = @timed optimization_method(input_arr, f, x -> gradient_method(x; k=k))\n",
    "                    \n",
    "                    results[Symbol(optimization_method)][Int(log10(length(input_arr)))][Symbol(gradient_method)][k] = (stats.value[2], stats.time)\n",
    "                end\n",
    "            else\n",
    "                println(\"$(Symbol(optimization_method)), 1e$(Int(log10(length(input_arr)))), $(Symbol(gradient_method))\")\n",
    "                stats = @timed optimization_method(input_arr, f, gradient_method)\n",
    "                \n",
    "                # Only check for correctness for exact methods for now\n",
    "                for x in stats.value[1] @assert isapprox(-0.68233, x; atol=1e-3) end\n",
    "                \n",
    "                results[Symbol(optimization_method)][Int(log10(length(input_arr)))][Symbol(gradient_method)] = (stats.value[2], stats.time)\n",
    "            end\n",
    "        end\n",
    "    end\n",
    "end\n",
    "pretty_print2(results)"
   ]
  }
 ],
 "metadata": {
  "kernelspec": {
   "display_name": "Julia 1.5.3",
   "language": "julia",
   "name": "julia-1.5"
  },
  "language_info": {
   "file_extension": ".jl",
   "mimetype": "application/julia",
   "name": "julia",
   "version": "1.5.3"
  }
 },
 "nbformat": 4,
 "nbformat_minor": 4
}
